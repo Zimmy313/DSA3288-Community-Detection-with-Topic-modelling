{
 "cells": [
  {
   "cell_type": "code",
   "execution_count": 1,
   "metadata": {},
   "outputs": [],
   "source": [
    "import numpy as np\n",
    "import pandas as pd\n",
    "import matplotlib.pyplot as plt\n",
    "import seaborn as sns\n",
    "from hlda_utils import *\n",
    "from hlda_final import *\n",
    "\n",
    "from sklearn.datasets import fetch_20newsgroups\n",
    "from nltk.corpus import stopwords\n",
    "from nltk.stem import PorterStemmer, WordNetLemmatizer"
   ]
  },
  {
   "cell_type": "markdown",
   "metadata": {},
   "source": [
    "# Toy corpus"
   ]
  },
  {
   "cell_type": "code",
   "execution_count": 2,
   "metadata": {},
   "outputs": [],
   "source": [
    "# Define the vocabulary\n",
    "vocabulary = [\n",
    "    'apple', 'banana', 'cat', 'dog', 'eat',\n",
    "    'fruit', 'go', 'happy', 'ice', 'juice'\n",
    "]\n",
    "\n",
    "# Create a toy corpus: list of documents, each document is a list of word strings\n",
    "raw_corpus = [\n",
    "    ['apple', 'banana', 'apple', 'juice'],\n",
    "    ['cat', 'dog', 'cat', 'happy'],\n",
    "    ['eat', 'fruit', 'banana', 'go'],\n",
    "    ['dog', 'apple', 'happy', 'juice'],\n",
    "    ['cat', 'eat', 'ice', 'banana']\n",
    "]"
   ]
  },
  {
   "cell_type": "code",
   "execution_count": 3,
   "metadata": {},
   "outputs": [
    {
     "name": "stdout",
     "output_type": "stream",
     "text": [
      "Vocabulary Mapping:\n",
      "  apple: 0\n",
      "  banana: 1\n",
      "  cat: 2\n",
      "  dog: 3\n",
      "  eat: 4\n",
      "  fruit: 5\n",
      "  go: 6\n",
      "  happy: 7\n",
      "  ice: 8\n",
      "  juice: 9\n",
      "\n",
      "Corpus (as word IDs):\n",
      "  Document 1: [0, 1, 0, 9]\n",
      "  Document 2: [2, 3, 2, 7]\n",
      "  Document 3: [4, 5, 1, 6]\n",
      "  Document 4: [3, 0, 7, 9]\n",
      "  Document 5: [2, 4, 8, 1]\n"
     ]
    }
   ],
   "source": [
    "# Create word to ID mapping\n",
    "word2id = {word: idx for idx, word in enumerate(vocabulary)}\n",
    "id2word = {idx: word for word, idx in word2id.items()}\n",
    "\n",
    "# Convert raw corpus to word IDs\n",
    "corpus = []\n",
    "for doc in raw_corpus:\n",
    "    doc_ids = [word2id[word] for word in doc]\n",
    "    corpus.append(doc_ids)\n",
    "\n",
    "print(\"Vocabulary Mapping:\")\n",
    "for word, idx in word2id.items():\n",
    "    print(f\"  {word}: {idx}\")\n",
    "\n",
    "print(\"\\nCorpus (as word IDs):\")\n",
    "for i, doc in enumerate(corpus):\n",
    "    print(f\"  Document {i+1}: {doc}\")"
   ]
  },
  {
   "cell_type": "code",
   "execution_count": 4,
   "metadata": {},
   "outputs": [],
   "source": [
    "# Parameters\n",
    "L = 3  # Number of levels in the hierarchy\n",
    "alpha = 1.0\n",
    "gamma = 0.5\n",
    "eta = 0.1\n",
    "seed = 42\n",
    "verbose = True\n",
    "\n",
    "# Initialize the hLDA model\n",
    "model = hLDA(\n",
    "    corpus=corpus,\n",
    "    vocabulary=vocabulary,\n",
    "    L=L,\n",
    "    alpha=alpha,\n",
    "    gamma=gamma,\n",
    "    eta=eta,\n",
    "    seed=seed,\n",
    "    verbose=verbose\n",
    ")"
   ]
  },
  {
   "cell_type": "code",
   "execution_count": 5,
   "metadata": {},
   "outputs": [
    {
     "name": "stdout",
     "output_type": "stream",
     "text": [
      "Starting hierarchical LDA sampling...\n",
      "Iteration 100\n",
      "Topic Node 0 (level=0, docs=5): cat(3), banana(3), eat(2)\n",
      "    Topic Node 89 (level=1, docs=5): happy(2), dog(2), juice(1)\n",
      "        Topic Node 94 (level=2, docs=2): apple(3), juice(0), ice(0)\n",
      "        Topic Node 97 (level=2, docs=3): go(1), fruit(1), juice(0)\n",
      "Total topic nodes created = 4\n"
     ]
    }
   ],
   "source": [
    "# Run Gibbs sampling\n",
    "iterations = 100\n",
    "display_interval = 100\n",
    "top_n = 3\n",
    "\n",
    "collected_samples = model.gibbs_sampling(\n",
    "    iterations=iterations,\n",
    "    display_interval=display_interval,\n",
    "    top_n=top_n\n",
    ")"
   ]
  },
  {
   "cell_type": "code",
   "execution_count": 6,
   "metadata": {},
   "outputs": [
    {
     "name": "stdout",
     "output_type": "stream",
     "text": [
      "\n",
      "Gamma Evaluation (Number of topics per level):\n",
      "  Level 0: 1 topics\n",
      "  Level 1: 1 topics\n",
      "  Level 2: 2 topics\n"
     ]
    }
   ],
   "source": [
    "gamma_counts = model.gamma_eval()\n",
    "print(\"\\nGamma Evaluation (Number of topics per level):\")\n",
    "for lvl, count in enumerate(gamma_counts):\n",
    "    print(f\"  Level {lvl}: {count} topics\")"
   ]
  },
  {
   "cell_type": "code",
   "execution_count": 7,
   "metadata": {},
   "outputs": [
    {
     "name": "stdout",
     "output_type": "stream",
     "text": [
      "\n",
      "Alpha Evaluation (Token distribution across levels) for Document 1:\n",
      "  Level 0: 0.50\n",
      "  Level 1: 0.00\n",
      "  Level 2: 0.50\n"
     ]
    }
   ],
   "source": [
    "document_id = 0  # Document 1\n",
    "alpha_fractions = model.alpha_eval(document_id)\n",
    "print(f\"\\nAlpha Evaluation (Token distribution across levels) for Document {document_id+1}:\")\n",
    "for lvl, frac in enumerate(alpha_fractions):\n",
    "    print(f\"  Level {lvl}: {frac:.2f}\")"
   ]
  },
  {
   "cell_type": "code",
   "execution_count": 8,
   "metadata": {},
   "outputs": [
    {
     "name": "stdout",
     "output_type": "stream",
     "text": [
      "\n",
      "Eta Evaluation (Top-2 word coverage per level):\n",
      "  Level 0: 80.00%\n",
      "  Level 1: 100.00%\n",
      "  Level 2: 100.00%\n"
     ]
    }
   ],
   "source": [
    "eta_coverage = model.eta_eval(n=3)\n",
    "print(\"\\nEta Evaluation (Top-2 word coverage per level):\")\n",
    "for lvl, coverage in enumerate(eta_coverage):\n",
    "    print(f\"  Level {lvl}: {coverage*100:.2f}%\")"
   ]
  },
  {
   "cell_type": "markdown",
   "metadata": {},
   "source": [
    "# Hyperparameter"
   ]
  },
  {
   "cell_type": "code",
   "execution_count": 9,
   "metadata": {},
   "outputs": [
    {
     "name": "stdout",
     "output_type": "stream",
     "text": [
      "Total raw documents in 20newsgroups (train): 11314\n",
      "Documents after filtering: 10999\n",
      "Vocabulary size: 12942\n",
      "Preprocessing complete.\n",
      "Vocabulary size after min_freq=5: 12942\n"
     ]
    }
   ],
   "source": [
    "###########################################\n",
    "# LOAD & PREPROCESS 20 NEWSGROUPS\n",
    "###########################################\n",
    "\n",
    "dataset = fetch_20newsgroups(subset='train', remove=('headers','footers','quotes'))\n",
    "all_docs = dataset.data\n",
    "all_labels = dataset.target\n",
    "\n",
    "print(\"Total raw documents in 20newsgroups (train):\", len(all_docs))\n",
    "\n",
    "_, _, vocab, word2idx, idx2word, corpus_indices = \\\n",
    "    full_preprocessing_pipeline(all_docs, all_labels, \n",
    "                                min_word_length=2, \n",
    "                                min_freq=5)\n",
    "\n",
    "print(f\"Vocabulary size after min_freq=5: {len(vocab)}\")"
   ]
  },
  {
   "cell_type": "code",
   "execution_count": 10,
   "metadata": {},
   "outputs": [
    {
     "name": "stdout",
     "output_type": "stream",
     "text": [
      "Number of selected documents: 500 (each >= 100 tokens).\n"
     ]
    }
   ],
   "source": [
    "###########################################\n",
    "# SELECT 500 SUITABLY-LONG DOCS\n",
    "###########################################\n",
    "# Pick the first 500 document with >= 100 tokens\n",
    "\n",
    "selected_corpus = []\n",
    "selected_count = 0\n",
    "for doc in corpus_indices:\n",
    "    if len(doc) >= 100:\n",
    "        selected_corpus.append(doc)\n",
    "        selected_count += 1\n",
    "        if selected_count == 500:\n",
    "            break\n",
    "\n",
    "print(f\"Number of selected documents: {len(selected_corpus)} (each >= 100 tokens).\")"
   ]
  },
  {
   "cell_type": "code",
   "execution_count": 11,
   "metadata": {},
   "outputs": [],
   "source": [
    "###########################################\n",
    "# Creating a table to store the results\n",
    "###########################################\n",
    "result_L3 = pd.DataFrame({\n",
    "    'Model': pd.Series(dtype='str'), # model name\n",
    "    'aim': pd.Series(dtype='str'), # what is the change of hyperparemeter. It can take one of 4 values:['base','alpha','gamma','eta']\n",
    "    'alpha': pd.Series(dtype='float'),\n",
    "    'gamma': pd.Series(dtype='float'),\n",
    "    'eta': pd.Series(dtype='float'),\n",
    "    'time':pd.Series(dtype='float'),\n",
    "    'total_table': pd.Series(dtype='int'),\n",
    "    'gamma_eval': pd.Series(dtype='object'), # a list of 3 integer indicating the number of tables at each level\n",
    "    'eta_eval': pd.Series(dtype='object'), # a list of 3 floats indicating the fraction of top-n word distribution at each level\n",
    "    'alpha_eval': pd.Series(dtype='object')  # a list of list. Each list contains 3 values. No of list depends on the number of document tested.\n",
    "})\n",
    "\n",
    "\n",
    "# For the following test, we will just apply alpha test on the followig documents\n",
    "documents = [0,9,99,199,299]"
   ]
  },
  {
   "cell_type": "code",
   "execution_count": 12,
   "metadata": {},
   "outputs": [],
   "source": [
    "def summarise(df, hlda_model, model_name, aim, documents, time):\n",
    "    \"\"\"\n",
    "    Function to extract the required information and save it into the dataset\n",
    "    \"\"\"\n",
    "    gamma_result = hlda_model.gamma_eval()\n",
    "    eta_result = hlda_model.eta_eval()\n",
    "    eta_result = [round(val, 2) for val in eta_result]\n",
    "    alpha_results = []\n",
    "    \n",
    "    for doc_id in documents:\n",
    "        alpha_eval = hlda_model.alpha_eval(doc_id)\n",
    "        alpha_results.append([round(val, 2) for val in alpha_eval])\n",
    "    \n",
    "    data = {\n",
    "        'Model': model_name,\n",
    "        'aim' : aim,\n",
    "        'alpha': hlda_model.alpha,\n",
    "        'gamma': hlda_model.gamma,\n",
    "        'eta': hlda_model.eta,\n",
    "        'time': time,\n",
    "        'total_table': NCRPNode.total_created_nodes,\n",
    "        'gamma_eval': gamma_result,\n",
    "        'eta_eval': eta_result,\n",
    "        'alpha_eval': alpha_results\n",
    "    }\n",
    "    print(data)\n",
    "    \n",
    "    df = pd.concat([df, pd.DataFrame([data])], ignore_index=True)\n",
    "    \n",
    "    return df"
   ]
  },
  {
   "cell_type": "code",
   "execution_count": 13,
   "metadata": {},
   "outputs": [
    {
     "name": "stdout",
     "output_type": "stream",
     "text": [
      "Starting hierarchical LDA sampling...\n",
      "Iteration 1000\n",
      "Topic Node 0 (level=0, docs=500): the(3303), to(2754), is(1965), it(1787), you(1492)\n",
      "    Topic Node 1 (level=1, docs=245): the(2253), of(1013), and(1013), in(665), to(571)\n",
      "        Topic Node 2 (level=2, docs=7): good(46), excel(35), veri(30), miss(26), includ(22)\n",
      "        Topic Node 3 (level=2, docs=188): the(1895), of(1230), to(644), and(605), that(597)\n",
      "        Topic Node 7 (level=2, docs=9): of(139), and(90), health(60), tobacco(52), use(52)\n",
      "        Topic Node 13 (level=2, docs=7): period(51), pp(42), play(31), power(29), pt(27)\n",
      "        Topic Node 33 (level=2, docs=31): program(25), window(24), file(23), problem(21), use(18)\n",
      "        Topic Node 1408 (level=2, docs=3): den(52), radiu(26), doubl(14), sqrt(11), starter(10)\n",
      "    Topic Node 4 (level=1, docs=223): the(1307), of(495), and(408), to(346), in(269)\n",
      "        Topic Node 5 (level=2, docs=77): the(383), is(349), of(294), that(226), to(123)\n",
      "        Topic Node 6 (level=2, docs=118): the(1061), and(734), they(504), wa(482), to(445)\n",
      "        Topic Node 8 (level=2, docs=22): disk(26), game(20), includ(19), tower(16), softwar(15)\n",
      "        Topic Node 1955 (level=2, docs=5): vote(39), ye(15), pitcher(14), john(12), ballot(12)\n",
      "        Topic Node 2000 (level=2, docs=1): max(354), ql(62), giz(57), bhj(43), rlk(29)\n",
      "    Topic Node 10 (level=1, docs=32): the(104), of(61), and(47), in(31), launch(27)\n",
      "        Topic Node 11 (level=2, docs=8): of(67), and(61), the(33), in(32), sequenc(24)\n",
      "        Topic Node 30 (level=2, docs=7): none(25), washington(21), new(17), street(15), dc(15)\n",
      "        Topic Node 492 (level=2, docs=16): dj(12), air(11), exhaust(11), flow(10), pressur(9)\n",
      "        Topic Node 2001 (level=2, docs=1): mv(12), mu(12), mh(9), mp(9), mt(9)\n",
      "Total topic nodes created = 19\n",
      "{'Model': 'base_model', 'aim': 'base', 'alpha': 10.0, 'gamma': 1.0, 'eta': 0.1, 'time': 45.48, 'total_table': 19, 'gamma_eval': [1, 3, 15], 'eta_eval': [np.float64(0.16), np.float64(0.22), np.float64(0.17)], 'alpha_eval': [[0.77, 0.08, 0.15], [0.75, 0.05, 0.2], [0.66, 0.12, 0.22], [0.31, 0.67, 0.02], [0.23, 0.04, 0.72]]}\n"
     ]
    }
   ],
   "source": [
    "############################################\n",
    "# BASE MODEL (alpha=10.0, gamma=1.0, eta=0.1)\n",
    "############################################\n",
    "\n",
    "base_model = hLDA(\n",
    "    corpus=selected_corpus,\n",
    "    vocabulary=vocab,\n",
    "    L=3,\n",
    "    alpha=10.0,\n",
    "    gamma=1.0,\n",
    "    eta=0.1,\n",
    "    seed=42,\n",
    "    verbose=False\n",
    ")\n",
    "\n",
    "# Run 1000 Gibbs iterations\n",
    "time = base_model.gibbs_sampling(\n",
    "    iterations=1000,\n",
    "    display_interval=1000,\n",
    "    top_n=5\n",
    ")\n",
    "\n",
    "result_L3 = summarise(result_L3, base_model, \"base_model\",'base', documents, time)"
   ]
  },
  {
   "cell_type": "code",
   "execution_count": 14,
   "metadata": {},
   "outputs": [
    {
     "name": "stdout",
     "output_type": "stream",
     "text": [
      "\n",
      "Gamma Evaluation (Number of topics per level):\n",
      "  Level 0: 1 topics\n",
      "  Level 1: 3 topics\n",
      "  Level 2: 15 topics\n",
      "\n",
      "Eta Evaluation (Top-5 word coverage per level):\n",
      "  Level 0: 15.85%\n",
      "  Level 1: 22.01%\n",
      "  Level 2: 17.02%\n"
     ]
    }
   ],
   "source": [
    "# Gamma\n",
    "gamma_counts = base_model.gamma_eval()\n",
    "print(\"\\nGamma Evaluation (Number of topics per level):\")\n",
    "for lvl, count in enumerate(gamma_counts):\n",
    "    print(f\"  Level {lvl}: {count} topics\")\n",
    "\n",
    "# Eta\n",
    "eta_coverage = base_model.eta_eval(n = 5)\n",
    "print(\"\\nEta Evaluation (Top-5 word coverage per level):\")\n",
    "for lvl, coverage in enumerate(eta_coverage):\n",
    "    print(f\"  Level {lvl}: {coverage*100:.2f}%\")"
   ]
  },
  {
   "cell_type": "code",
   "execution_count": 15,
   "metadata": {},
   "outputs": [
    {
     "name": "stdout",
     "output_type": "stream",
     "text": [
      "\n",
      "Alpha Evaluation (Token distribution across levels) for Document 1:\n",
      "  Level 0: 0.77\n",
      "  Level 1: 0.08\n",
      "  Level 2: 0.15\n",
      "\n",
      "Alpha Evaluation (Token distribution across levels) for Document 10:\n",
      "  Level 0: 0.75\n",
      "  Level 1: 0.05\n",
      "  Level 2: 0.20\n",
      "\n",
      "Alpha Evaluation (Token distribution across levels) for Document 100:\n",
      "  Level 0: 0.66\n",
      "  Level 1: 0.12\n",
      "  Level 2: 0.22\n",
      "\n",
      "Alpha Evaluation (Token distribution across levels) for Document 200:\n",
      "  Level 0: 0.31\n",
      "  Level 1: 0.67\n",
      "  Level 2: 0.02\n",
      "\n",
      "Alpha Evaluation (Token distribution across levels) for Document 300:\n",
      "  Level 0: 0.23\n",
      "  Level 1: 0.04\n",
      "  Level 2: 0.72\n",
      "Takes 45.48 minutes to run.\n"
     ]
    }
   ],
   "source": [
    "# Alpha\n",
    "\n",
    "for i in range(len(documents)):\n",
    "    doc_id = documents[i]\n",
    "    alpha_fractions = base_model.alpha_eval(doc_id)\n",
    "    print(f\"\\nAlpha Evaluation (Token distribution across levels) for Document {doc_id+1}:\")\n",
    "    for lvl, frac in enumerate(alpha_fractions):\n",
    "        print(f\"  Level {lvl}: {frac:.2f}\")\n",
    "\n",
    "print(f\"Takes {time} minutes to run.\")"
   ]
  },
  {
   "cell_type": "markdown",
   "metadata": {},
   "source": [
    "## Evaluating the effect of alpha\n",
    "In general, if alpha value decreases, each document will be represented by less topics. Hence, we will expect the concentration at lower nodes to be higher. The converse is true. \n",
    "\n",
    "This means that the total number of topics to be created is less. **z** will now be smaller. Hence, we will expect the algorithm to converge faster. \n",
    "\n",
    "Therefore we will examine the effect of changing alpha in three ways:\n",
    "1. Running time\n",
    "2. number of nodes created(no of topics)\n",
    "3. For a few selected topics, access the distributions of tokens into each levels(fraction of tokens in each level using alpha_fractions)"
   ]
  },
  {
   "cell_type": "code",
   "execution_count": 16,
   "metadata": {},
   "outputs": [
    {
     "name": "stdout",
     "output_type": "stream",
     "text": [
      "Starting hierarchical LDA sampling...\n",
      "Iteration 1000\n",
      "Topic Node 0 (level=0, docs=500): the(8682), to(4454), of(3951), and(3165), is(2734)\n",
      "    Topic Node 1 (level=1, docs=181): billion(27), biolog(25), sequenc(24), constitut(21), insur(19)\n",
      "        Topic Node 2 (level=2, docs=6): good(46), excel(35), veri(35), miss(26), uccxkvb(21)\n",
      "        Topic Node 3 (level=2, docs=78): the(1119), of(689), and(489), in(294), to(231)\n",
      "        Topic Node 7 (level=2, docs=9): of(126), and(70), health(65), tobacco(52), use(50)\n",
      "        Topic Node 13 (level=2, docs=20): play(62), period(56), game(48), team(46), pp(44)\n",
      "        Topic Node 26 (level=2, docs=23): program(27), run(20), window(19), server(17), motif(17)\n",
      "        Topic Node 76 (level=2, docs=6): water(13), rock(6), plant(5), heat(4), kid(4)\n",
      "        Topic Node 459 (level=2, docs=11): none(25), kill(17), arab(11), israel(9), land(7)\n",
      "        Topic Node 3441 (level=2, docs=7): homosexu(10), men(7), promiscu(4), fetish(4), immor(4)\n",
      "        Topic Node 3601 (level=2, docs=11): tax(17), spend(9), clinton(7), democrat(7), educ(6)\n",
      "        Topic Node 9738 (level=2, docs=2): washington(19), dc(14), street(14), new(13), york(13)\n",
      "        Topic Node 12851 (level=2, docs=3): bill(4), billion(3), gene(2), fund(2), clinton(2)\n",
      "        Topic Node 12856 (level=2, docs=2): mu(12), mv(12), mp(9), mh(9), mt(9)\n",
      "        Topic Node 12859 (level=2, docs=2): sex(2), depress(1), factor(1), destruct(1), interact(1)\n",
      "        Topic Node 12864 (level=2, docs=1): doug(25), symbol(11), undefin(11), librari(2), load(2)\n",
      "    Topic Node 4 (level=1, docs=197): bill(27), gun(25), cooper(18), reserv(17), state(16)\n",
      "        Topic Node 5 (level=2, docs=30): is(132), argument(83), fallaci(60), god(52), truth(52)\n",
      "        Topic Node 6 (level=2, docs=20): the(573), and(474), they(381), wa(346), that(244)\n",
      "        Topic Node 8 (level=2, docs=8): mark(8), confer(8), imag(7), email(7), apr(7)\n",
      "        Topic Node 9 (level=2, docs=70): use(47), with(47), card(39), disk(33), problem(33)\n",
      "        Topic Node 102 (level=2, docs=32): car(21), bike(20), brake(15), speed(13), splitfir(13)\n",
      "        Topic Node 110 (level=2, docs=8): circuit(15), input(14), scope(13), decod(9), output(9)\n",
      "        Topic Node 11417 (level=2, docs=9): medic(9), tinnitu(9), doctor(7), quack(7), treatment(6)\n",
      "        Topic Node 12838 (level=2, docs=3): jewish(6), stanki(4), interview(3), naiv(1), espn(1)\n",
      "        Topic Node 12841 (level=2, docs=1): zz(0), frontier(0), ftw(0), ftpmail(0), ftp(0)\n",
      "        Topic Node 12844 (level=2, docs=3): ideolog(2), bos(2), research(1), linguist(1), interfer(1)\n",
      "        Topic Node 12845 (level=2, docs=8): easter(6), game(6), bob(5), sunday(5), whore(4)\n",
      "        Topic Node 12852 (level=2, docs=3): cop(3), startl(3), mo(2), valentin(2), detector(2)\n",
      "        Topic Node 12862 (level=2, docs=1): zz(0), frontier(0), ftw(0), ftpmail(0), ftp(0)\n",
      "        Topic Node 12863 (level=2, docs=1): mous(6), ball(4), clean(4), roller(3), dirt(2)\n",
      "    Topic Node 10 (level=1, docs=52): gun(12), kryptonit(10), june(9), may(9), cabl(9)\n",
      "        Topic Node 11 (level=2, docs=17): and(77), space(58), nasa(52), orbit(51), launch(46)\n",
      "        Topic Node 16 (level=2, docs=13): team(20), pitcher(19), player(16), morri(16), game(16)\n",
      "        Topic Node 9983 (level=2, docs=8): bank(13), islam(6), aura(5), neurolog(5), western(5)\n",
      "        Topic Node 12833 (level=2, docs=4): senc(6), illus(5), cosmic(3), purpos(3), dan(2)\n",
      "        Topic Node 12846 (level=2, docs=4): ride(3), oncom(1), luck(1), badli(1), margin(1)\n",
      "        Topic Node 12853 (level=2, docs=3): acceler(6), substitut(4), forens(2), listserv(2), doctrin(2)\n",
      "        Topic Node 12858 (level=2, docs=2): moham(4), prophet(3), jet(3), yeah(2), greg(2)\n",
      "        Topic Node 12860 (level=2, docs=1): zz(0), frontier(0), ftw(0), ftpmail(0), ftp(0)\n",
      "    Topic Node 24 (level=1, docs=47): imag(21), oti(21), brian(17), file(15), cipher(14)\n",
      "        Topic Node 157 (level=2, docs=5): vote(44), window(33), nt(15), ye(14), unmoder(13)\n",
      "        Topic Node 293 (level=2, docs=5): dyer(7), corn(7), diet(7), cereal(6), seizur(5)\n",
      "        Topic Node 4479 (level=2, docs=16): key(24), encrypt(24), phone(21), secur(21), clipper(18)\n",
      "        Topic Node 8954 (level=2, docs=3): den(52), radiu(26), sin(17), doubl(14), if(11)\n",
      "        Topic Node 11975 (level=2, docs=4): prize(6), moon(6), un(4), backer(3), lindbergh(2)\n",
      "        Topic Node 12822 (level=2, docs=2): zz(0), frontier(0), ftw(0), ftpmail(0), ftp(0)\n",
      "        Topic Node 12840 (level=2, docs=6): domino(3), border(1), ussr(1), poland(1), wall(1)\n",
      "        Topic Node 12847 (level=2, docs=2): meter(3), soar(3), fluke(2), admonish(2), analog(2)\n",
      "        Topic Node 12850 (level=2, docs=1): map(3), imagin(2), anim(1), just(1), product(1)\n",
      "        Topic Node 12861 (level=2, docs=3): zz(0), frontier(0), ftw(0), ftpmail(0), ftp(0)\n",
      "    Topic Node 1664 (level=1, docs=22): professor(13), uv(9), univers(8), offer(8), best(8)\n",
      "        Topic Node 3081 (level=2, docs=10): gun(16), weapon(8), handgun(8), homicid(7), rate(7)\n",
      "        Topic Node 3616 (level=2, docs=6): plane(13), line(13), polygon(11), normal(10), lie(10)\n",
      "        Topic Node 12800 (level=2, docs=1): zz(0), frontier(0), ftw(0), ftpmail(0), ftp(0)\n",
      "        Topic Node 12837 (level=2, docs=1): zz(0), frontier(0), ftw(0), ftpmail(0), ftp(0)\n",
      "        Topic Node 12839 (level=2, docs=1): dg(14), memori(5), costli(4), museum(3), holocaust(3)\n",
      "        Topic Node 12857 (level=2, docs=3): rd(8), td(8), sg(8), dtr(6), modem(6)\n",
      "    Topic Node 12854 (level=1, docs=1): zz(0), frontier(0), ftw(0), ftpmail(0), ftp(0)\n",
      "        Topic Node 12855 (level=2, docs=1): max(354), ql(62), giz(57), bhj(43), rlk(29)\n",
      "Total topic nodes created = 60\n",
      "{'Model': 'model_alpha_1', 'aim': 'alpha', 'alpha': 0.01, 'gamma': 1.0, 'eta': 0.1, 'time': 82.09, 'total_table': 60, 'gamma_eval': [1, 6, 53], 'eta_eval': [np.float64(0.2), np.float64(0.07), np.float64(0.22)], 'alpha_eval': [[0.86, 0.0, 0.14], [0.83, 0.0, 0.17], [0.8, 0.0, 0.2], [0.57, 0.0, 0.43], [0.27, 0.0, 0.73]]}\n"
     ]
    }
   ],
   "source": [
    "############################################\n",
    "# ALPHA 1 (alpha=0.01)\n",
    "############################################\n",
    "\n",
    "model_alpha_1 = hLDA(\n",
    "    corpus=selected_corpus,\n",
    "    vocabulary=vocab,\n",
    "    L=3,\n",
    "    alpha=0.01,   \n",
    "    gamma=1.0,   # Same as base\n",
    "    eta=0.1,     # Same as base\n",
    "    seed=42,\n",
    "    verbose=False\n",
    ")\n",
    "\n",
    "\n",
    "time = model_alpha_1.gibbs_sampling(\n",
    "    iterations=1000,\n",
    "    display_interval=1000,\n",
    "    top_n=5\n",
    ")\n",
    "\n",
    "result_L3 = summarise(result_L3, model_alpha_1, \"model_alpha_1\",'alpha', documents, time)"
   ]
  },
  {
   "cell_type": "code",
   "execution_count": 17,
   "metadata": {},
   "outputs": [
    {
     "name": "stdout",
     "output_type": "stream",
     "text": [
      "\n",
      "Gamma Evaluation (Number of topics per level):\n",
      "  Level 0: 1 topics\n",
      "  Level 1: 6 topics\n",
      "  Level 2: 53 topics\n",
      "\n",
      "Alpha Evaluation (Token distribution across levels) for Document 1:\n",
      "  Level 0: 0.86\n",
      "  Level 1: 0.00\n",
      "  Level 2: 0.14\n",
      "\n",
      "Alpha Evaluation (Token distribution across levels) for Document 10:\n",
      "  Level 0: 0.83\n",
      "  Level 1: 0.00\n",
      "  Level 2: 0.17\n",
      "\n",
      "Alpha Evaluation (Token distribution across levels) for Document 100:\n",
      "  Level 0: 0.80\n",
      "  Level 1: 0.00\n",
      "  Level 2: 0.20\n",
      "\n",
      "Alpha Evaluation (Token distribution across levels) for Document 200:\n",
      "  Level 0: 0.57\n",
      "  Level 1: 0.00\n",
      "  Level 2: 0.43\n",
      "\n",
      "Alpha Evaluation (Token distribution across levels) for Document 300:\n",
      "  Level 0: 0.27\n",
      "  Level 1: 0.00\n",
      "  Level 2: 0.73\n"
     ]
    }
   ],
   "source": [
    "# Gamma\n",
    "gamma_counts = model_alpha_1.gamma_eval()\n",
    "print(\"\\nGamma Evaluation (Number of topics per level):\")\n",
    "for lvl, count in enumerate(gamma_counts):\n",
    "    print(f\"  Level {lvl}: {count} topics\")\n",
    "    \n",
    "# Alpha, test on 5 documents\n",
    "documents = [0,9,99,199,299] \n",
    "\n",
    "for i in range(len(documents)):\n",
    "    doc_id = documents[i]\n",
    "    alpha_fractions = model_alpha_1.alpha_eval(doc_id)\n",
    "    print(f\"\\nAlpha Evaluation (Token distribution across levels) for Document {doc_id+1}:\")\n",
    "    for lvl, frac in enumerate(alpha_fractions):\n",
    "        print(f\"  Level {lvl}: {frac:.2f}\")"
   ]
  },
  {
   "cell_type": "code",
   "execution_count": 18,
   "metadata": {},
   "outputs": [
    {
     "name": "stdout",
     "output_type": "stream",
     "text": [
      "Starting hierarchical LDA sampling...\n",
      "Iteration 1000\n",
      "Topic Node 0 (level=0, docs=500): the(9077), to(4550), of(4160), and(3431), is(2679)\n",
      "    Topic Node 1 (level=1, docs=134): palestinian(27), brian(15), reserv(15), professor(13), insur(11)\n",
      "        Topic Node 2 (level=2, docs=5): good(47), excel(33), veri(31), miss(26), geoffrey(21)\n",
      "        Topic Node 3 (level=2, docs=65): the(885), of(548), and(359), in(224), jesu(201)\n",
      "        Topic Node 7 (level=2, docs=5): of(116), health(59), and(57), tobacco(52), use(43)\n",
      "        Topic Node 13 (level=2, docs=7): period(51), pp(42), play(31), power(29), pt(27)\n",
      "        Topic Node 24 (level=2, docs=30): game(76), team(68), he(59), play(41), season(37)\n",
      "        Topic Node 87 (level=2, docs=6): dj(12), paid(8), speaker(7), soni(6), condit(6)\n",
      "        Topic Node 124 (level=2, docs=5): circuit(14), input(12), decod(9), output(9), audio(8)\n",
      "        Topic Node 594 (level=2, docs=4): washington(19), street(15), dc(14), york(13), new(13)\n",
      "        Topic Node 2060 (level=2, docs=6): water(13), rock(6), kid(5), pimpl(5), plant(5)\n",
      "        Topic Node 8513 (level=2, docs=1): numlock(8), mask(4), server(4), modifi(3), capslock(3)\n",
      "    Topic Node 4 (level=1, docs=190): for(28), sequenc(25), bill(24), doug(24), biolog(23)\n",
      "        Topic Node 5 (level=2, docs=44): is(197), argument(91), god(80), truth(68), fallaci(60)\n",
      "        Topic Node 6 (level=2, docs=22): and(425), the(420), they(366), wa(346), that(249)\n",
      "        Topic Node 8 (level=2, docs=57): file(39), disk(36), card(34), for(32), or(30)\n",
      "        Topic Node 9 (level=2, docs=45): window(39), program(37), use(37), problem(34), imag(27)\n",
      "        Topic Node 276 (level=2, docs=3): plane(13), line(12), polygon(11), abc(10), lie(10)\n",
      "        Topic Node 458 (level=2, docs=4): homosexu(8), men(6), fetish(4), promiscu(4), immor(3)\n",
      "        Topic Node 560 (level=2, docs=2): vote(44), window(33), ye(15), nt(15), unmoder(13)\n",
      "        Topic Node 1851 (level=2, docs=9): cabl(15), lock(13), batteri(11), kryptonit(11), sourc(10)\n",
      "        Topic Node 8474 (level=2, docs=2): easter(7), whore(4), passov(3), nt(2), corpu(2)\n",
      "        Topic Node 8509 (level=2, docs=1): mv(12), mu(12), mp(9), mh(9), mt(9)\n",
      "        Topic Node 8511 (level=2, docs=1): burster(5), hole(4), spectrum(4), distribut(4), collid(3)\n",
      "    Topic Node 10 (level=1, docs=164): billion(27), articl(18), dollar(14), discus(13), nasa(12)\n",
      "        Topic Node 11 (level=2, docs=13): orbit(45), launch(44), space(34), shuttl(31), mission(28)\n",
      "        Topic Node 30 (level=2, docs=8): bank(13), food(12), diet(8), corn(7), dyer(7)\n",
      "        Topic Node 31 (level=2, docs=31): key(55), chip(45), secur(45), encrypt(42), clipper(41)\n",
      "        Topic Node 33 (level=2, docs=5): splitfir(13), exhaust(11), air(9), pressur(9), intak(8)\n",
      "        Topic Node 39 (level=2, docs=4): scope(12), event(10), confer(8), sampl(7), mhz(6)\n",
      "        Topic Node 100 (level=2, docs=37): car(70), speed(24), insur(23), drive(21), year(19)\n",
      "        Topic Node 204 (level=2, docs=11): israel(26), none(24), isra(16), kill(15), land(14)\n",
      "        Topic Node 223 (level=2, docs=14): patient(19), medic(14), treatment(13), drug(12), jb(11)\n",
      "        Topic Node 4192 (level=2, docs=10): arm(20), militia(15), govern(14), bear(12), amend(10)\n",
      "        Topic Node 4651 (level=2, docs=13): tax(17), increas(11), spend(9), clinton(9), democrat(9)\n",
      "        Topic Node 5765 (level=2, docs=4): mark(7), author(5), wilson(3), apr(3), mysteri(3)\n",
      "        Topic Node 8414 (level=2, docs=5): clean(6), inject(6), mous(6), ball(5), spot(5)\n",
      "        Topic Node 8435 (level=2, docs=3): font(10), truetyp(7), prize(6), bold(6), atm(5)\n",
      "        Topic Node 8502 (level=2, docs=1): jet(3), greg(2), pan(1), peni(1), flash(1)\n",
      "        Topic Node 8505 (level=2, docs=2): jewish(6), stanki(4), interview(3), knew(1), koufax(1)\n",
      "        Topic Node 8510 (level=2, docs=2): den(52), radiu(25), doubl(14), sqrt(11), sin(8)\n",
      "        Topic Node 8514 (level=2, docs=1): sg(8), td(8), rd(8), dtr(6), modem(6)\n",
      "    Topic Node 975 (level=1, docs=12): astronaut(36), nasa(25), applic(24), candid(22), space(18)\n",
      "        Topic Node 1077 (level=2, docs=3): pitcher(14), snf(11), atl(11), mon(11), cub(11)\n",
      "        Topic Node 1828 (level=2, docs=5): father(46), son(36), spirit(32), holi(21), creed(18)\n",
      "        Topic Node 8507 (level=2, docs=1): max(354), ql(62), giz(57), bhj(43), rlk(29)\n",
      "        Topic Node 8508 (level=2, docs=1): dg(14), memori(5), costli(4), museum(3), jake(3)\n",
      "        Topic Node 8512 (level=2, docs=2): challeng(6), wingat(5), eyebal(5), bate(3), shorten(3)\n",
      "Total topic nodes created = 48\n",
      "{'Model': 'model_alpha_2', 'aim': 'alpha', 'alpha': 0.1, 'gamma': 1.0, 'eta': 0.1, 'time': 67.85, 'total_table': 48, 'gamma_eval': [1, 4, 43], 'eta_eval': [np.float64(0.21), np.float64(0.1), np.float64(0.23)], 'alpha_eval': [[0.87, 0.01, 0.13], [0.84, 0.0, 0.16], [0.76, 0.0, 0.24], [0.59, 0.41, 0.0], [0.27, 0.0, 0.73]]}\n"
     ]
    }
   ],
   "source": [
    "############################################\n",
    "# ALPHA 2 (alpha=0.1)\n",
    "############################################\n",
    "\n",
    "model_alpha_2 = hLDA(\n",
    "    corpus=selected_corpus,\n",
    "    vocabulary=vocab,\n",
    "    L=3,\n",
    "    alpha=0.1,  \n",
    "    gamma=1.0,\n",
    "    eta=0.1,\n",
    "    seed=42,\n",
    "    verbose=False\n",
    ")\n",
    "\n",
    "time = model_alpha_2.gibbs_sampling(\n",
    "    iterations=1000,\n",
    "    display_interval=1000,\n",
    "    top_n=5\n",
    ")\n",
    "result_L3 = summarise(result_L3, model_alpha_2, \"model_alpha_2\",'alpha', documents, time)"
   ]
  },
  {
   "cell_type": "code",
   "execution_count": 19,
   "metadata": {},
   "outputs": [
    {
     "name": "stdout",
     "output_type": "stream",
     "text": [
      "\n",
      "Gamma Evaluation (Number of topics per level):\n",
      "  Level 0: 1 topics\n",
      "  Level 1: 4 topics\n",
      "  Level 2: 43 topics\n",
      "\n",
      "Alpha Evaluation (Token distribution across levels) for Document 1:\n",
      "  Level 0: 0.87\n",
      "  Level 1: 0.01\n",
      "  Level 2: 0.13\n",
      "\n",
      "Alpha Evaluation (Token distribution across levels) for Document 10:\n",
      "  Level 0: 0.84\n",
      "  Level 1: 0.00\n",
      "  Level 2: 0.16\n",
      "\n",
      "Alpha Evaluation (Token distribution across levels) for Document 100:\n",
      "  Level 0: 0.76\n",
      "  Level 1: 0.00\n",
      "  Level 2: 0.24\n",
      "\n",
      "Alpha Evaluation (Token distribution across levels) for Document 200:\n",
      "  Level 0: 0.59\n",
      "  Level 1: 0.41\n",
      "  Level 2: 0.00\n",
      "\n",
      "Alpha Evaluation (Token distribution across levels) for Document 300:\n",
      "  Level 0: 0.27\n",
      "  Level 1: 0.00\n",
      "  Level 2: 0.73\n"
     ]
    }
   ],
   "source": [
    "# Gamma\n",
    "gamma_counts = model_alpha_2.gamma_eval()\n",
    "print(\"\\nGamma Evaluation (Number of topics per level):\")\n",
    "for lvl, count in enumerate(gamma_counts):\n",
    "    print(f\"  Level {lvl}: {count} topics\")\n",
    "    \n",
    "# Alpha, test on 5 documents\n",
    "documents = [0,9,99,199,299] \n",
    "\n",
    "for i in range(len(documents)):\n",
    "    doc_id = documents[i]\n",
    "    alpha_fractions = model_alpha_2.alpha_eval(doc_id)\n",
    "    print(f\"\\nAlpha Evaluation (Token distribution across levels) for Document {doc_id+1}:\")\n",
    "    for lvl, frac in enumerate(alpha_fractions):\n",
    "        print(f\"  Level {lvl}: {frac:.2f}\")"
   ]
  },
  {
   "cell_type": "code",
   "execution_count": 20,
   "metadata": {},
   "outputs": [
    {
     "name": "stdout",
     "output_type": "stream",
     "text": [
      "Starting hierarchical LDA sampling...\n",
      "Iteration 1000\n",
      "Topic Node 0 (level=0, docs=500): the(9103), to(4603), of(4199), and(3083), is(2694)\n",
      "    Topic Node 1 (level=1, docs=181): and(81), of(47), for(42), state(33), islam(28)\n",
      "        Topic Node 2 (level=2, docs=7): good(46), excel(36), veri(34), miss(26), includ(22)\n",
      "        Topic Node 3 (level=2, docs=72): the(914), of(531), and(466), in(277), jesu(200)\n",
      "        Topic Node 7 (level=2, docs=7): of(95), and(67), health(65), use(52), tobacco(52)\n",
      "        Topic Node 13 (level=2, docs=7): period(51), pp(42), play(31), power(29), pt(27)\n",
      "        Topic Node 42 (level=2, docs=33): car(66), drive(26), speed(24), insur(23), year(19)\n",
      "        Topic Node 49 (level=2, docs=8): splitfir(13), exhaust(11), air(11), intak(8), flow(8)\n",
      "        Topic Node 66 (level=2, docs=33): chip(67), key(54), secur(46), clipper(41), encrypt(41)\n",
      "        Topic Node 108 (level=2, docs=3): cabl(14), lock(13), kryptonit(11), steel(6), eyebal(5)\n",
      "        Topic Node 200 (level=2, docs=5): food(10), dyer(7), corn(7), diet(7), cereal(6)\n",
      "        Topic Node 716 (level=2, docs=5): homosexu(10), men(7), senc(6), illus(5), realiti(5)\n",
      "        Topic Node 4566 (level=2, docs=1): den(52), radiu(25), doubl(14), if(12), sqrt(11)\n",
      "    Topic Node 4 (level=1, docs=223): hi(43), wa(37), had(36), bill(35), state(34)\n",
      "        Topic Node 5 (level=2, docs=40): is(178), argument(87), god(67), fallaci(60), truth(53)\n",
      "        Topic Node 6 (level=2, docs=26): and(468), they(374), the(366), wa(347), were(214)\n",
      "        Topic Node 8 (level=2, docs=73): for(67), use(61), file(47), disk(43), card(38)\n",
      "        Topic Node 9 (level=2, docs=25): team(64), game(61), he(45), season(37), play(37)\n",
      "        Topic Node 72 (level=2, docs=9): may(12), car(10), june(10), apr(9), confer(8)\n",
      "        Topic Node 164 (level=2, docs=15): palestinian(28), israel(27), none(25), isra(20), kill(18)\n",
      "        Topic Node 411 (level=2, docs=4): plane(13), line(13), font(11), polygon(11), normal(10)\n",
      "        Topic Node 482 (level=2, docs=7): father(46), son(35), spirit(33), holi(22), creed(18)\n",
      "        Topic Node 692 (level=2, docs=5): brian(17), bank(11), truck(8), islam(6), jewish(6)\n",
      "        Topic Node 1304 (level=2, docs=11): tax(18), spend(9), democrat(9), clinton(6), republican(6)\n",
      "        Topic Node 2325 (level=2, docs=3): pitcher(14), cub(11), atl(11), phi(11), snf(11)\n",
      "        Topic Node 4078 (level=2, docs=2): vote(44), window(31), nt(15), unmoder(13), name(13)\n",
      "        Topic Node 4563 (level=2, docs=1): scope(12), sampl(7), mhz(6), digit(4), event(4)\n",
      "        Topic Node 4565 (level=2, docs=1): mv(12), mu(12), mt(9), mp(9), mh(9)\n",
      "        Topic Node 4567 (level=2, docs=1): wingat(5), challeng(4), charley(3), honesti(1), ignor(1)\n",
      "    Topic Node 10 (level=1, docs=96): reserv(16), univers(11), naval(10), presid(8), list(8)\n",
      "        Topic Node 11 (level=2, docs=16): and(107), space(56), orbit(52), for(50), nasa(50)\n",
      "        Topic Node 20 (level=2, docs=22): doug(25), program(22), window(18), motif(18), server(16)\n",
      "        Topic Node 22 (level=2, docs=4): circuit(14), input(11), decod(9), output(9), audio(8)\n",
      "        Topic Node 39 (level=2, docs=6): uv(9), charg(6), batteri(6), light(5), bright(5)\n",
      "        Topic Node 73 (level=2, docs=4): washington(19), street(15), dc(14), york(14), new(14)\n",
      "        Topic Node 84 (level=2, docs=14): patient(18), medic(14), treatment(14), drug(13), jb(11)\n",
      "        Topic Node 100 (level=2, docs=20): gun(37), crime(18), law(16), weapon(15), homicid(12)\n",
      "        Topic Node 4522 (level=2, docs=3): dj(12), mous(6), ball(5), clean(4), aircraft(3)\n",
      "        Topic Node 4539 (level=2, docs=3): predict(7), inject(6), percept(5), scienc(4), gold(3)\n",
      "        Topic Node 4562 (level=2, docs=2): max(354), ql(62), giz(57), bhj(43), rlk(29)\n",
      "        Topic Node 4564 (level=2, docs=1): dg(14), memori(5), costli(4), museum(3), jake(3)\n",
      "        Topic Node 4568 (level=2, docs=1): td(8), sg(8), rd(8), dtr(6), dcd(6)\n",
      "Total topic nodes created = 42\n",
      "{'Model': 'model_alpha_3', 'aim': 'alpha', 'alpha': 1, 'gamma': 1.0, 'eta': 0.1, 'time': 55.39, 'total_table': 42, 'gamma_eval': [1, 3, 38], 'eta_eval': [np.float64(0.22), np.float64(0.09), np.float64(0.21)], 'alpha_eval': [[0.82, 0.0, 0.18], [0.76, 0.01, 0.23], [0.78, 0.0, 0.22], [0.53, 0.0, 0.47], [0.27, 0.0, 0.73]]}\n"
     ]
    }
   ],
   "source": [
    "############################################\n",
    "# ALPHA 3 (alpha=1)\n",
    "############################################\n",
    "\n",
    "model_alpha_3 = hLDA(\n",
    "    corpus=selected_corpus,\n",
    "    vocabulary=vocab,\n",
    "    L=3,\n",
    "    alpha=1,  \n",
    "    gamma=1.0,\n",
    "    eta=0.1,\n",
    "    seed=42,\n",
    "    verbose=False\n",
    ")\n",
    "\n",
    "time = model_alpha_3.gibbs_sampling(\n",
    "    iterations=1000,\n",
    "    display_interval=1000,\n",
    "    top_n=5\n",
    ")\n",
    "result_L3 = summarise(result_L3, model_alpha_3, \"model_alpha_3\",'alpha', documents, time)"
   ]
  },
  {
   "cell_type": "code",
   "execution_count": 21,
   "metadata": {},
   "outputs": [
    {
     "name": "stdout",
     "output_type": "stream",
     "text": [
      "Starting hierarchical LDA sampling...\n",
      "Iteration 1000\n",
      "Topic Node 0 (level=0, docs=500): the(6004), of(3026), and(2765), to(2255), in(1882)\n",
      "    Topic Node 1 (level=1, docs=291): that(1037), you(1004), it(774), is(548), do(540)\n",
      "        Topic Node 2 (level=2, docs=9): good(47), excel(37), veri(29), miss(25), geoffrey(21)\n",
      "        Topic Node 3 (level=2, docs=272): the(2950), of(1411), to(1204), and(908), in(750)\n",
      "        Topic Node 7 (level=2, docs=2): health(58), of(58), tobacco(52), among(38), smokeless(37)\n",
      "        Topic Node 13 (level=2, docs=8): period(53), pp(44), play(36), power(30), pt(27)\n",
      "    Topic Node 4 (level=1, docs=191): to(614), it(444), you(392), have(337), that(312)\n",
      "        Topic Node 5 (level=2, docs=113): is(453), the(327), that(258), of(196), be(139)\n",
      "        Topic Node 6 (level=2, docs=48): the(810), and(582), they(422), wa(394), that(358)\n",
      "        Topic Node 8 (level=2, docs=18): game(22), washington(19), disk(18), tower(17), borland(15)\n",
      "        Topic Node 9 (level=2, docs=10): den(52), radiu(26), doug(24), none(24), doubl(14)\n",
      "        Topic Node 620 (level=2, docs=2): max(354), ql(62), giz(57), bhj(43), wm(30)\n",
      "    Topic Node 10 (level=1, docs=18): space(44), will(44), mission(43), nasa(41), you(40)\n",
      "        Topic Node 11 (level=2, docs=13): launch(40), data(26), biolog(26), sequenc(24), earth(24)\n",
      "        Topic Node 16 (level=2, docs=5): vote(39), ye(17), pitcher(14), ballot(12), john(12)\n",
      "Total topic nodes created = 15\n",
      "{'Model': 'model_alpha_4', 'aim': 'alpha', 'alpha': 100, 'gamma': 1.0, 'eta': 0.1, 'time': 36.12, 'total_table': 15, 'gamma_eval': [1, 3, 11], 'eta_eval': [np.float64(0.28), np.float64(0.12), np.float64(0.15)], 'alpha_eval': [[0.47, 0.38, 0.15], [0.47, 0.39, 0.15], [0.32, 0.37, 0.31], [0.52, 0.45, 0.04], [0.18, 0.16, 0.66]]}\n"
     ]
    }
   ],
   "source": [
    "############################################\n",
    "# ALPHA 4 (alpha=100)\n",
    "############################################\n",
    "\n",
    "model_alpha_4 = hLDA(\n",
    "    corpus=selected_corpus,\n",
    "    vocabulary=vocab,\n",
    "    L=3,\n",
    "    alpha=100,  \n",
    "    gamma=1.0,\n",
    "    eta=0.1,\n",
    "    seed=42,\n",
    "    verbose=False\n",
    ")\n",
    "\n",
    "time = model_alpha_4.gibbs_sampling(\n",
    "    iterations=1000,\n",
    "    display_interval=1000,\n",
    "    top_n=5\n",
    ")\n",
    "result_L3 = summarise(result_L3, model_alpha_4, \"model_alpha_4\",'alpha', documents, time)"
   ]
  },
  {
   "cell_type": "code",
   "execution_count": 22,
   "metadata": {},
   "outputs": [
    {
     "name": "stdout",
     "output_type": "stream",
     "text": [
      "Starting hierarchical LDA sampling...\n",
      "Iteration 1000\n",
      "Topic Node 0 (level=0, docs=500): the(7291), of(4081), and(2647), in(2589), for(1630)\n",
      "    Topic Node 1 (level=1, docs=334): to(1637), you(1032), it(1016), that(944), have(787)\n",
      "        Topic Node 2 (level=2, docs=11): good(43), excel(36), veri(28), miss(26), uccxkvb(21)\n",
      "        Topic Node 3 (level=2, docs=303): the(2271), to(1502), and(976), that(823), of(721)\n",
      "        Topic Node 7 (level=2, docs=10): vote(40), doug(26), ye(15), name(13), ballot(12)\n",
      "        Topic Node 13 (level=2, docs=10): period(54), pp(44), play(36), power(28), pt(27)\n",
      "    Topic Node 4 (level=1, docs=147): to(1397), the(769), it(680), that(667), on(448)\n",
      "        Topic Node 5 (level=2, docs=97): is(470), that(176), be(139), not(126), to(117)\n",
      "        Topic Node 6 (level=2, docs=23): they(402), wa(338), and(311), he(224), were(211)\n",
      "        Topic Node 8 (level=2, docs=22): game(25), includ(17), disk(16), convert(16), borland(15)\n",
      "        Topic Node 9 (level=2, docs=3): health(59), tobacco(52), use(39), among(37), smokeless(37)\n",
      "        Topic Node 18 (level=2, docs=2): max(354), ql(62), giz(57), bhj(43), wm(30)\n",
      "    Topic Node 10 (level=1, docs=19): to(223), it(62), on(50), that(47), you(41)\n",
      "        Topic Node 11 (level=2, docs=12): and(83), orbit(43), mission(43), space(42), launch(42)\n",
      "        Topic Node 16 (level=2, docs=7): den(52), radiu(26), none(25), washington(16), pitcher(14)\n",
      "Total topic nodes created = 15\n",
      "{'Model': 'model_alpha_5', 'aim': 'alpha', 'alpha': 1000, 'gamma': 1.0, 'eta': 0.1, 'time': 35.15, 'total_table': 15, 'gamma_eval': [1, 3, 11], 'eta_eval': [np.float64(0.32), np.float64(0.19), np.float64(0.14)], 'alpha_eval': [[0.34, 0.39, 0.28], [0.4, 0.42, 0.18], [0.42, 0.34, 0.24], [0.44, 0.24, 0.32], [0.2, 0.21, 0.58]]}\n"
     ]
    }
   ],
   "source": [
    "############################################\n",
    "# ALPHA 5 (alpha=1000)\n",
    "############################################\n",
    "\n",
    "model_alpha_5 = hLDA(\n",
    "    corpus=selected_corpus,\n",
    "    vocabulary=vocab,\n",
    "    L=3,\n",
    "    alpha=1000,  \n",
    "    gamma=1.0,\n",
    "    eta=0.1,\n",
    "    seed=42,\n",
    "    verbose=False\n",
    ")\n",
    "\n",
    "time = model_alpha_5.gibbs_sampling(\n",
    "    iterations=1000,\n",
    "    display_interval=1000,\n",
    "    top_n=5\n",
    ")\n",
    "result_L3 = summarise(result_L3, model_alpha_5, \"model_alpha_5\",'alpha', documents, time)"
   ]
  },
  {
   "cell_type": "markdown",
   "metadata": {},
   "source": [
    "## Evaluating the effect of gamma\n",
    "\n",
    "This can simply be evaluated by the number of table created."
   ]
  },
  {
   "cell_type": "code",
   "execution_count": 23,
   "metadata": {},
   "outputs": [
    {
     "name": "stdout",
     "output_type": "stream",
     "text": [
      "Starting hierarchical LDA sampling...\n",
      "Iteration 1000\n",
      "Topic Node 0 (level=0, docs=500): the(4220), and(2100), to(1837), in(1410), of(1387)\n",
      "    Topic Node 1 (level=1, docs=500): the(2233), of(1319), and(1128), to(988), for(773)\n",
      "        Topic Node 2 (level=2, docs=484): the(3933), is(2397), of(2200), to(2070), that(1668)\n",
      "        Topic Node 3 (level=2, docs=5): period(51), pp(42), power(29), play(29), pt(23)\n",
      "        Topic Node 25 (level=2, docs=6): pitcher(14), snf(11), mon(11), phi(11), atl(11)\n",
      "        Topic Node 159 (level=2, docs=3): den(52), radiu(25), doubl(14), if(12), sqrt(11)\n",
      "        Topic Node 1497 (level=2, docs=2): max(354), ql(62), giz(57), bhj(43), wm(30)\n",
      "Total topic nodes created = 7\n",
      "{'Model': 'model_gamma_1', 'aim': 'gamma', 'alpha': 10.0, 'gamma': 0.01, 'eta': 0.1, 'time': 33.74, 'total_table': 7, 'gamma_eval': [1, 1, 5], 'eta_eval': [np.float64(0.18), np.float64(0.14), np.float64(0.2)], 'alpha_eval': [[0.32, 0.35, 0.32], [0.18, 0.59, 0.23], [0.18, 0.4, 0.42], [0.1, 0.78, 0.12], [0.08, 0.86, 0.06]]}\n"
     ]
    }
   ],
   "source": [
    "############################################\n",
    "# GAMMA 1 (gamma=0.01)\n",
    "############################################\n",
    "\n",
    "model_gamma_1 = hLDA(\n",
    "    corpus=selected_corpus,\n",
    "    vocabulary=vocab,\n",
    "    L=3,\n",
    "    alpha=10.0,  \n",
    "    gamma=0.01,   \n",
    "    eta=0.1,     \n",
    "    seed=42,\n",
    "    verbose=False\n",
    ")\n",
    "\n",
    "time = model_gamma_1.gibbs_sampling(\n",
    "    iterations=1000,\n",
    "    display_interval=1000,\n",
    "    top_n=5\n",
    ")\n",
    "result_L3 = summarise(result_L3, model_gamma_1, \"model_gamma_1\",'gamma', documents, time)"
   ]
  },
  {
   "cell_type": "code",
   "execution_count": 25,
   "metadata": {},
   "outputs": [
    {
     "name": "stdout",
     "output_type": "stream",
     "text": [
      "\n",
      "Gamma Evaluation (Number of topics per level):\n",
      "  Level 0: 1 topics\n",
      "  Level 1: 1 topics\n",
      "  Level 2: 5 topics\n"
     ]
    }
   ],
   "source": [
    "# Gamma\n",
    "gamma_counts = model_gamma_1.gamma_eval()\n",
    "print(\"\\nGamma Evaluation (Number of topics per level):\")\n",
    "for lvl, count in enumerate(gamma_counts):\n",
    "    print(f\"  Level {lvl}: {count} topics\")"
   ]
  },
  {
   "cell_type": "code",
   "execution_count": 26,
   "metadata": {},
   "outputs": [
    {
     "name": "stdout",
     "output_type": "stream",
     "text": [
      "Starting hierarchical LDA sampling...\n",
      "Iteration 1000\n",
      "Topic Node 0 (level=0, docs=500): to(2226), is(2125), the(2114), it(1603), that(1376)\n",
      "    Topic Node 1 (level=1, docs=132): the(1851), of(1001), and(661), to(556), in(448)\n",
      "        Topic Node 2 (level=2, docs=118): the(734), of(473), to(264), and(251), is(250)\n",
      "        Topic Node 402 (level=2, docs=6): of(159), and(110), the(108), health(57), in(56)\n",
      "        Topic Node 1531 (level=2, docs=6): warn(9), key(9), toolkit(8), virtualbind(8), string(8)\n",
      "        Topic Node 1710 (level=2, docs=2): max(354), ql(62), giz(57), bhj(43), wm(30)\n",
      "    Topic Node 3 (level=1, docs=368): the(3531), of(1872), and(1348), in(995), to(948)\n",
      "        Topic Node 4 (level=2, docs=324): the(2048), and(1245), to(901), they(810), that(784)\n",
      "        Topic Node 5 (level=2, docs=5): period(51), pp(42), power(29), play(29), pt(23)\n",
      "        Topic Node 6 (level=2, docs=8): for(39), biolog(24), sequenc(24), launch(23), orbit(22)\n",
      "        Topic Node 66 (level=2, docs=11): good(47), excel(37), includ(31), veri(31), miss(26)\n",
      "        Topic Node 76 (level=2, docs=3): pitcher(14), mon(11), snf(11), phi(11), atl(11)\n",
      "        Topic Node 941 (level=2, docs=9): car(11), june(9), td(8), sg(8), rd(8)\n",
      "        Topic Node 1307 (level=2, docs=4): doug(25), washington(19), new(17), street(15), dc(14)\n",
      "        Topic Node 1507 (level=2, docs=4): den(52), radiu(26), doubl(14), sin(11), sqrt(11)\n",
      "Total topic nodes created = 15\n",
      "{'Model': 'model_gamma_2', 'aim': 'gamma', 'alpha': 10.0, 'gamma': 0.1, 'eta': 0.1, 'time': 115.61, 'total_table': 15, 'gamma_eval': [1, 2, 12], 'eta_eval': [np.float64(0.15), np.float64(0.25), np.float64(0.18)], 'alpha_eval': [[0.65, 0.16, 0.19], [0.7, 0.18, 0.12], [0.84, 0.06, 0.1], [0.21, 0.76, 0.03], [0.15, 0.12, 0.73]]}\n"
     ]
    }
   ],
   "source": [
    "############################################\n",
    "# GAMMA 2 (gamma=0.1)\n",
    "############################################\n",
    "\n",
    "model_gamma_2 = hLDA(\n",
    "    corpus=selected_corpus,\n",
    "    vocabulary=vocab,\n",
    "    L=3,\n",
    "    alpha=10.0,\n",
    "    gamma=0.1,  \n",
    "    eta=0.1,\n",
    "    seed=42,\n",
    "    verbose=False\n",
    ")\n",
    "\n",
    "time = model_gamma_2.gibbs_sampling(\n",
    "    iterations=1000,\n",
    "    display_interval=1000,\n",
    "    top_n=5\n",
    ")\n",
    "result_L3 = summarise(result_L3, model_gamma_2, \"model_gamma_2\",'gamma', documents, time)"
   ]
  },
  {
   "cell_type": "code",
   "execution_count": 27,
   "metadata": {},
   "outputs": [
    {
     "name": "stdout",
     "output_type": "stream",
     "text": [
      "Starting hierarchical LDA sampling...\n",
      "Iteration 1000\n",
      "Topic Node 0 (level=0, docs=500): the(6169), of(3267), to(2906), and(2336), in(1952)\n",
      "    Topic Node 3 (level=1, docs=22): data(19), remot(11), imag(11), user(9), applic(9)\n",
      "        Topic Node 36 (level=2, docs=5): mission(45), orbit(44), space(42), shuttl(38), astronaut(36)\n",
      "        Topic Node 42 (level=2, docs=5): health(59), of(56), tobacco(52), use(43), among(38)\n",
      "        Topic Node 160 (level=2, docs=3): pitcher(14), cub(11), mon(11), atl(11), snf(11)\n",
      "        Topic Node 276 (level=2, docs=4): vote(46), window(32), ye(15), nt(15), unmoder(13)\n",
      "        Topic Node 1629 (level=2, docs=5): washington(19), street(16), abc(15), york(14), dc(14)\n",
      "    Topic Node 9 (level=1, docs=335): the(1888), and(1180), that(904), to(867), they(765)\n",
      "        Topic Node 156 (level=2, docs=298): the(481), it(452), you(428), to(393), is(393)\n",
      "        Topic Node 165 (level=2, docs=33): the(393), of(250), and(164), armenian(151), in(101)\n",
      "        Topic Node 329 (level=2, docs=4): good(47), excel(34), veri(32), miss(26), uccxkvb(21)\n",
      "    Topic Node 26 (level=1, docs=138): that(457), is(345), you(335), it(215), do(203)\n",
      "        Topic Node 99 (level=2, docs=120): the(1453), of(846), to(531), is(455), and(398)\n",
      "        Topic Node 158 (level=2, docs=8): sequenc(24), comput(23), biolog(23), of(19), confer(18)\n",
      "        Topic Node 882 (level=2, docs=8): doug(25), antibiot(12), symbol(12), resist(11), undefin(11)\n",
      "        Topic Node 1754 (level=2, docs=1): max(354), ql(62), giz(57), bhj(43), rlk(29)\n",
      "        Topic Node 1755 (level=2, docs=1): mv(12), mu(12), mt(9), mp(9), mh(9)\n",
      "    Topic Node 220 (level=1, docs=5): lead(10), shot(9), det(7), save(6), leaf(5)\n",
      "        Topic Node 221 (level=2, docs=5): period(50), pp(42), play(30), power(29), scorer(23)\n",
      "Total topic nodes created = 19\n",
      "{'Model': 'model_gamma_3', 'aim': 'gamma', 'alpha': 10.0, 'gamma': 10, 'eta': 0.1, 'time': 43.73, 'total_table': 19, 'gamma_eval': [1, 4, 14], 'eta_eval': [np.float64(0.25), np.float64(0.16), np.float64(0.16)], 'alpha_eval': [[0.32, 0.24, 0.44], [0.45, 0.14, 0.42], [0.28, 0.22, 0.5], [0.64, 0.01, 0.35], [0.23, 0.06, 0.71]]}\n"
     ]
    }
   ],
   "source": [
    "############################################\n",
    "# GAMMA 2 (gamma=10)\n",
    "############################################\n",
    "\n",
    "model_gamma_3 = hLDA(\n",
    "    corpus=selected_corpus,\n",
    "    vocabulary=vocab,\n",
    "    L=3,\n",
    "    alpha=10.0,\n",
    "    gamma=10,  \n",
    "    eta=0.1,\n",
    "    seed=42,\n",
    "    verbose=False\n",
    ")\n",
    "\n",
    "time = model_gamma_3.gibbs_sampling(\n",
    "    iterations=1000,\n",
    "    display_interval=1000,\n",
    "    top_n=5\n",
    ")\n",
    "result_L3 = summarise(result_L3, model_gamma_3, \"model_gamma_3\",'gamma', documents, time)"
   ]
  },
  {
   "cell_type": "code",
   "execution_count": 28,
   "metadata": {},
   "outputs": [
    {
     "name": "stdout",
     "output_type": "stream",
     "text": [
      "Starting hierarchical LDA sampling...\n",
      "Iteration 1000\n",
      "Topic Node 0 (level=0, docs=500): the(3150), to(2030), is(1358), it(1203), of(1080)\n",
      "    Topic Node 35 (level=1, docs=49): of(244), the(199), and(183), in(76), wa(74)\n",
      "        Topic Node 294 (level=2, docs=49): the(369), and(265), of(226), in(150), to(137)\n",
      "    Topic Node 204 (level=1, docs=6): njd(14), pgh(11), rough(11), lead(10), shot(9)\n",
      "        Topic Node 496 (level=2, docs=6): period(51), pp(42), power(29), play(29), pt(27)\n",
      "    Topic Node 209 (level=1, docs=15): report(8), corn(7), brake(6), she(5), pain(5)\n",
      "        Topic Node 642 (level=2, docs=15): wa(44), year(25), had(22), insur(20), rate(13)\n",
      "    Topic Node 275 (level=1, docs=2): mv(13), mu(12), mt(9), mp(9), mi(8)\n",
      "        Topic Node 276 (level=2, docs=2): max(354), ql(62), giz(57), bhj(43), wm(30)\n",
      "    Topic Node 478 (level=1, docs=428): the(2796), and(1683), to(1289), that(1131), wa(997)\n",
      "        Topic Node 479 (level=2, docs=384): the(3872), of(2423), to(1434), is(1424), and(1223)\n",
      "        Topic Node 661 (level=2, docs=3): washington(19), street(14), dc(14), pitcher(14), york(13)\n",
      "        Topic Node 663 (level=2, docs=9): good(46), excel(36), veri(33), miss(26), geoffrey(21)\n",
      "        Topic Node 672 (level=2, docs=11): doug(25), convert(12), symbol(12), undefin(11), draw(10)\n",
      "        Topic Node 673 (level=2, docs=19): modem(22), disk(12), font(10), tinnitu(9), td(8)\n",
      "        Topic Node 682 (level=2, docs=2): den(52), radiu(25), doubl(14), dj(12), sqrt(11)\n",
      "Total topic nodes created = 16\n",
      "{'Model': 'model_gamma_4', 'aim': 'gamma', 'alpha': 10.0, 'gamma': 100, 'eta': 0.1, 'time': 40.97, 'total_table': 16, 'gamma_eval': [1, 5, 10], 'eta_eval': [np.float64(0.15), np.float64(0.14), np.float64(0.22)], 'alpha_eval': [[0.67, 0.28, 0.04], [0.81, 0.03, 0.16], [0.68, 0.14, 0.18], [0.35, 0.03, 0.63], [0.25, 0.04, 0.71]]}\n"
     ]
    }
   ],
   "source": [
    "############################################\n",
    "# GAMMA 4 (gamma=100)\n",
    "############################################\n",
    "\n",
    "model_gamma_4 = hLDA(\n",
    "    corpus=selected_corpus,\n",
    "    vocabulary=vocab,\n",
    "    L=3,\n",
    "    alpha=10.0,\n",
    "    gamma=100,  \n",
    "    eta=0.1,\n",
    "    seed=42,\n",
    "    verbose=False\n",
    ")\n",
    "\n",
    "time = model_gamma_4.gibbs_sampling(\n",
    "    iterations=1000,\n",
    "    display_interval=1000,\n",
    "    top_n=5\n",
    ")\n",
    "result_L3 = summarise(result_L3, model_gamma_4, \"model_gamma_4\",'gamma', documents, time)"
   ]
  },
  {
   "cell_type": "markdown",
   "metadata": {},
   "source": [
    "## Evaluating the effect of Eta"
   ]
  },
  {
   "cell_type": "code",
   "execution_count": 29,
   "metadata": {},
   "outputs": [
    {
     "name": "stdout",
     "output_type": "stream",
     "text": [
      "Starting hierarchical LDA sampling...\n",
      "Iteration 1000\n",
      "Topic Node 0 (level=0, docs=500): the(2571), to(1792), and(1364), for(1150), in(924)\n",
      "    Topic Node 1 (level=1, docs=304): the(1630), is(1530), that(1431), of(1240), to(1097)\n",
      "        Topic Node 3 (level=2, docs=247): the(2918), of(1320), and(1011), in(769), to(680)\n",
      "        Topic Node 7 (level=2, docs=8): the(79), and(50), of(46), orbit(25), in(19)\n",
      "        Topic Node 13 (level=2, docs=4): period(42), pp(37), play(31), power(29), pt(27)\n",
      "        Topic Node 25 (level=2, docs=8): none(25), kill(18), in(13), by(12), secur(7)\n",
      "        Topic Node 112 (level=2, docs=21): the(66), to(31), window(23), can(20), program(15)\n",
      "        Topic Node 216 (level=2, docs=13): for(31), borland(15), guid(14), includ(14), disk(13)\n",
      "        Topic Node 2236 (level=2, docs=2): den(52), radiu(25), sin(15), doubl(14), sqrt(11)\n",
      "        Topic Node 3467 (level=2, docs=1): mv(12), mu(12), mh(9), mt(9), mp(9)\n",
      "    Topic Node 4 (level=1, docs=105): the(1033), of(437), is(430), that(424), to(381)\n",
      "        Topic Node 5 (level=2, docs=24): to(46), use(29), port(20), system(19), file(19)\n",
      "        Topic Node 6 (level=2, docs=37): the(616), and(503), they(402), wa(313), that(270)\n",
      "        Topic Node 9 (level=2, docs=5): of(80), and(53), for(36), in(35), comput(26)\n",
      "        Topic Node 18 (level=2, docs=5): train(13), revolv(10), auto(8), semi(7), hit(7)\n",
      "        Topic Node 1414 (level=2, docs=5): may(16), will(9), june(9), car(7), interest(7)\n",
      "        Topic Node 1464 (level=2, docs=3): of(163), and(98), the(90), health(59), tobacco(52)\n",
      "        Topic Node 1469 (level=2, docs=6): jb(11), they(8), rr(8), me(6), own(6)\n",
      "        Topic Node 2340 (level=2, docs=5): starter(10), mark(6), lefthand(6), neurolog(5), author(5)\n",
      "        Topic Node 2367 (level=2, docs=6): postscript(11), font(11), process(8), truetyp(7), p(6)\n",
      "        Topic Node 2515 (level=2, docs=7): exist(8), homosexu(7), brake(6), senc(6), realiti(6)\n",
      "        Topic Node 3453 (level=2, docs=2): njd(14), pgh(11), rough(11), lemieux(9), numlock(8)\n",
      "    Topic Node 10 (level=1, docs=91): the(1383), of(698), to(589), is(469), that(430)\n",
      "        Topic Node 11 (level=2, docs=5): good(47), excel(35), veri(30), miss(26), includ(25)\n",
      "        Topic Node 74 (level=2, docs=4): he(19), hi(15), season(15), team(15), game(14)\n",
      "        Topic Node 481 (level=2, docs=8): exhaust(11), air(9), intak(8), pressur(8), batteri(7)\n",
      "        Topic Node 485 (level=2, docs=13): if(16), is(11), gear(10), light(9), uv(9)\n",
      "        Topic Node 536 (level=2, docs=19): jesu(150), he(104), we(74), matthew(72), hi(69)\n",
      "        Topic Node 1173 (level=2, docs=8): water(14), month(8), get(8), help(7), oil(7)\n",
      "        Topic Node 1313 (level=2, docs=6): plane(14), find(12), dj(12), abc(10), normal(10)\n",
      "        Topic Node 1338 (level=2, docs=7): doug(25), problem(14), call(12), in(12), am(12)\n",
      "        Topic Node 1352 (level=2, docs=6): food(12), diet(7), corn(7), dyer(7), cereal(6)\n",
      "        Topic Node 2051 (level=2, docs=6): you(15), modem(12), td(8), rd(8), sg(8)\n",
      "        Topic Node 2576 (level=2, docs=2): washington(20), street(15), dc(14), dg(14), new(13)\n",
      "        Topic Node 3245 (level=2, docs=2): brian(17), me(10), he(10), look(9), tinnitu(9)\n",
      "        Topic Node 3343 (level=2, docs=2): pitcher(14), atl(11), phi(11), snf(11), cub(11)\n",
      "        Topic Node 3466 (level=2, docs=1): max(354), ql(62), giz(57), bhj(43), rlk(29)\n",
      "        Topic Node 3468 (level=2, docs=2): vote(40), ye(13), john(12), ballot(12), name(11)\n",
      "Total topic nodes created = 38\n",
      "{'Model': 'model_eta_1', 'aim': 'eta', 'alpha': 10.0, 'gamma': 1.0, 'eta': 0.01, 'time': 53.49, 'total_table': 38, 'gamma_eval': [1, 3, 34], 'eta_eval': [np.float64(0.13), np.float64(0.27), np.float64(0.2)], 'alpha_eval': [[0.69, 0.26, 0.05], [0.62, 0.2, 0.18], [0.39, 0.4, 0.21], [0.78, 0.1, 0.12], [0.18, 0.11, 0.7]]}\n"
     ]
    }
   ],
   "source": [
    "############################################\n",
    "# ETA 1 (eta=0.01)\n",
    "############################################\n",
    "\n",
    "model_eta_1 = hLDA(\n",
    "    corpus=selected_corpus,\n",
    "    vocabulary=vocab,\n",
    "    L=3,\n",
    "    alpha=10.0,\n",
    "    gamma=1.0,\n",
    "    eta=0.01,  \n",
    "    seed=42,\n",
    "    verbose=False\n",
    ")\n",
    "\n",
    "time = model_eta_1.gibbs_sampling(\n",
    "    iterations=1000,\n",
    "    display_interval=1000,\n",
    "    top_n=5\n",
    ")\n",
    "result_L3 = summarise(result_L3, model_eta_1, \"model_eta_1\",'eta', documents, time)"
   ]
  },
  {
   "cell_type": "code",
   "execution_count": 30,
   "metadata": {},
   "outputs": [
    {
     "name": "stdout",
     "output_type": "stream",
     "text": [
      "Starting hierarchical LDA sampling...\n",
      "Iteration 1000\n",
      "Topic Node 0 (level=0, docs=500): the(10382), of(4902), to(4894), and(4290), in(2924)\n",
      "    Topic Node 1 (level=1, docs=279): period(47), pp(42), power(30), play(30), scorer(23)\n",
      "        Topic Node 80 (level=2, docs=2): valid(1), dealt(1), cure(1), hope(1), quick(1)\n",
      "        Topic Node 175 (level=2, docs=12): wrong(2), add(2), lifestyl(2), arrow(1), griffin(1)\n",
      "        Topic Node 176 (level=2, docs=4): port(1), choic(1), expertis(1), quick(1), michael(1)\n",
      "        Topic Node 307 (level=2, docs=16): observ(2), catalog(2), vertic(1), conduct(1), agent(1)\n",
      "        Topic Node 315 (level=2, docs=9): first(2), score(2), ottawa(2), pt(2), period(2)\n",
      "        Topic Node 325 (level=2, docs=9): det(4), van(3), canuck(3), red(3), linden(2)\n",
      "        Topic Node 333 (level=2, docs=8): stl(4), phi(2), thompson(2), laker(1), upset(1)\n",
      "        Topic Node 350 (level=2, docs=12): draw(2), professor(2), mydisplay(2), ruff(1), synchron(1)\n",
      "        Topic Node 352 (level=2, docs=16): mile(2), purpos(1), memori(1), submiss(1), stamp(1)\n",
      "        Topic Node 362 (level=2, docs=8): greenfield(2), also(1), harri(1), faster(1), guid(1)\n",
      "        Topic Node 373 (level=2, docs=8): singl(2), whole(1), lou(1), faster(1), ii(1)\n",
      "        Topic Node 391 (level=2, docs=4): suppli(2), popul(1), negev(1), under(1), deduct(1)\n",
      "        Topic Node 398 (level=2, docs=8): tocchet(2), murphi(2), algorithm(2), dye(2), steven(2)\n",
      "        Topic Node 400 (level=2, docs=8): mdt(2), mous(1), serdar(1), government(1), govern(1)\n",
      "        Topic Node 404 (level=2, docs=9): undefin(5), nw(4), libxmu(2), cnn(2), street(2)\n",
      "        Topic Node 405 (level=2, docs=13): miss(2), excel(2), vision(2), mine(2), anniversari(2)\n",
      "        Topic Node 412 (level=2, docs=12): june(3), wheeli(2), ground(2), textedit(2), interest(2)\n",
      "        Topic Node 415 (level=2, docs=9): given(2), boy(1), credul(1), achiev(1), effect(1)\n",
      "        Topic Node 416 (level=2, docs=7): ohio(2), orbit(1), imag(1), fail(1), chloupek(1)\n",
      "        Topic Node 417 (level=2, docs=10): sen(2), dineen(2), bay(1), increas(1), matteau(1)\n",
      "        Topic Node 429 (level=2, docs=12): hudson(2), cover(2), owner(1), modem(1), laptop(1)\n",
      "        Topic Node 430 (level=2, docs=15): dcd(4), rt(2), sg(2), ct(2), lyme(2)\n",
      "        Topic Node 431 (level=2, docs=10): boiler(3), colormap(2), nearli(1), thank(1), pickup(1)\n",
      "        Topic Node 435 (level=2, docs=6): atm(2), electr(2), bold(2), featur(1), bookshelf(1)\n",
      "        Topic Node 439 (level=2, docs=7): captainci(2), p(2), who(1), medium(1), uart(1)\n",
      "        Topic Node 440 (level=2, docs=9): him(1), cipher(1), core(1), destruct(1), implicit(1)\n",
      "        Topic Node 443 (level=2, docs=5): includ(1), man(1), govern(1), neil(1), tesla(1)\n",
      "        Topic Node 452 (level=2, docs=7): devic(1), give(1), mosfet(1), ftp(1), which(1)\n",
      "        Topic Node 463 (level=2, docs=8): wingert(3), der(1), slump(1), verifi(1), close(1)\n",
      "        Topic Node 465 (level=2, docs=8): dj(4), john(2), mb(2), lotu(1), rr(1)\n",
      "        Topic Node 469 (level=2, docs=8): agreement(1), beyond(1), absent(1), great(1), charit(1)\n",
      "    Topic Node 4 (level=1, docs=221): m(4), sell(4), everi(4), filter(3), dg(3)\n",
      "        Topic Node 12 (level=2, docs=6): max(354), ql(62), giz(57), bhj(43), wm(30)\n",
      "        Topic Node 301 (level=2, docs=10): leaf(3), detroit(2), replay(2), busi(1), penal(1)\n",
      "        Topic Node 328 (level=2, docs=4): ration(1), umm(1), blah(1), mileag(1), access(1)\n",
      "        Topic Node 337 (level=2, docs=11): present(2), fatwa(2), liquid(1), spend(1), vga(1)\n",
      "        Topic Node 363 (level=2, docs=7): honda(2), machin(2), motorsport(1), mid(1), dashnak(1)\n",
      "        Topic Node 369 (level=2, docs=4): interview(2), pic(2), imag(1), retail(1), shorten(1)\n",
      "        Topic Node 377 (level=2, docs=16): dg(6), jake(3), memori(3), debugg(2), holocaust(2)\n",
      "        Topic Node 378 (level=2, docs=9): invad(2), ii(2), properli(1), starvat(1), slow(1)\n",
      "        Topic Node 382 (level=2, docs=5): latter(1), wingat(1), handl(1), challeng(1), charley(1)\n",
      "        Topic Node 389 (level=2, docs=9): ride(3), larg(2), agenc(2), queen(2), safeti(1)\n",
      "        Topic Node 390 (level=2, docs=12): lindbergh(2), string(2), want(1), reckon(1), apolog(1)\n",
      "        Topic Node 395 (level=2, docs=7): master(2), righthand(2), viola(1), tend(1), replac(1)\n",
      "        Topic Node 402 (level=2, docs=8): den(45), radiu(20), doubl(11), sqrt(9), theta(6)\n",
      "        Topic Node 422 (level=2, docs=6): access(1), expressli(1), treasur(1), et(1), natur(1)\n",
      "        Topic Node 423 (level=2, docs=10): amend(1), shoot(1), unrel(1), sp(1), onlin(1)\n",
      "        Topic Node 424 (level=2, docs=6): aspect(1), hunt(1), money(1), depend(1), realli(1)\n",
      "        Topic Node 427 (level=2, docs=4): previou(2), conceal(1), penalti(1), anoth(1), none(1)\n",
      "        Topic Node 432 (level=2, docs=6): victim(2), comput(1), effort(1), nor(1), ok(1)\n",
      "        Topic Node 442 (level=2, docs=7): guess(1), manner(1), door(1), unavoid(1), seattl(1)\n",
      "        Topic Node 447 (level=2, docs=7): circuit(2), contact(1), an(1), leav(1), game(1)\n",
      "        Topic Node 451 (level=2, docs=15): fan(4), capacitor(2), test(2), whose(2), administr(1)\n",
      "        Topic Node 455 (level=2, docs=2): posit(1), cut(1), court(1), heap(1), declar(1)\n",
      "        Topic Node 456 (level=2, docs=10): introductori(2), issu(1), offens(1), empti(1), reson(1)\n",
      "        Topic Node 459 (level=2, docs=8): none(3), ministri(2), apacgw(1), israel(1), health(1)\n",
      "        Topic Node 464 (level=2, docs=5): caer(2), long(1), pain(1), sucker(1), forc(1)\n",
      "        Topic Node 466 (level=2, docs=10): scodal(2), gaa(2), cow(1), missil(1), evacu(1)\n",
      "        Topic Node 468 (level=2, docs=10): coach(1), mention(1), wing(1), ibm(1), player(1)\n",
      "        Topic Node 470 (level=2, docs=7): onli(2), jari(1), can(1), mccarthi(1), news(1)\n",
      "Total topic nodes created = 62\n",
      "{'Model': 'model_eta_2', 'aim': 'eta', 'alpha': 10.0, 'gamma': 1.0, 'eta': 10.0, 'time': 31.86, 'total_table': 62, 'gamma_eval': [1, 2, 59], 'eta_eval': [np.float64(0.17), np.float64(0.04), np.float64(0.2)], 'alpha_eval': [[0.94, 0.02, 0.04], [0.96, 0.02, 0.02], [0.94, 0.04, 0.02], [0.99, 0.0, 0.0], [0.96, 0.02, 0.02]]}\n"
     ]
    }
   ],
   "source": [
    "############################################\n",
    "# ETA 2 (eta=10.0)\n",
    "############################################\n",
    "\n",
    "model_eta_2 = hLDA(\n",
    "    corpus=selected_corpus,\n",
    "    vocabulary=vocab,\n",
    "    L=3,\n",
    "    alpha=10.0,\n",
    "    gamma=1.0,\n",
    "    eta=10.0,  \n",
    "    seed=42,\n",
    "    verbose=False\n",
    ")\n",
    "\n",
    "time = model_eta_2.gibbs_sampling(\n",
    "    iterations=1000,\n",
    "    display_interval=1000,\n",
    "    top_n=5\n",
    ")\n",
    "result_L3 = summarise(result_L3, model_eta_2, \"model_eta_2\",'eta', documents, time)"
   ]
  },
  {
   "cell_type": "markdown",
   "metadata": {},
   "source": [
    "# Visualisations"
   ]
  },
  {
   "cell_type": "code",
   "execution_count": 90,
   "metadata": {},
   "outputs": [],
   "source": [
    "# Create a new column to combine hyperparameter name and value for x-axis\n",
    "result_L3['param_setting'] = result_L3.apply(\n",
    "    lambda row: f\"{row['aim']}={row[row['aim']]}\" if row['aim'] != 'base' else 'base',\n",
    "    axis=1\n",
    ")\n",
    "\n",
    "# Extending gamma info\n",
    "level_info = pd.DataFrame(result_L3['gamma_eval'].tolist(), columns = [\"1\", \"2\", \"3\"]) # extending gamma_eval\n",
    "\n",
    "# Extending result_L3\n",
    "result_L3_extended = pd.concat([result_L3, level_info], axis = 1)\n",
    "result_L3_extended = pd.melt(result_L3_extended, id_vars = ['Model', 'aim', 'alpha', 'gamma', 'eta', 'time', 'total_table',\n",
    "       'gamma_eval', 'eta_eval', 'alpha_eval', 'param_setting'], \n",
    "                             value_vars=[\"1\", \"2\", \"3\"],  \n",
    "                             var_name='Level',     \n",
    "                             value_name='Topics' )"
   ]
  },
  {
   "cell_type": "markdown",
   "metadata": {},
   "source": [
    "## 1. Time vs Model"
   ]
  },
  {
   "cell_type": "code",
   "execution_count": 96,
   "metadata": {},
   "outputs": [
    {
     "data": {
      "image/png": "[encoded data removed]",
      "text/plain": [
       "<Figure size 1200x600 with 1 Axes>"
      ]
     },
     "metadata": {},
     "output_type": "display_data"
    }
   ],
   "source": [
    "base_model_params = \"Base Model: Alpha=10, Gamma=1, Eta=0.1\"\n",
    "\n",
    "plt.figure(figsize=(12, 6))\n",
    "sns.barplot(data=result_L3, x='param_setting', y='time', hue='param_setting', palette='viridis', legend=False)\n",
    "\n",
    "plt.title('Model Completion Time', fontsize=14, pad=20)\n",
    "plt.xlabel('Hyperparameter Setting', fontsize=12)\n",
    "plt.ylabel('Time to Completion (minutes)', fontsize=12)\n",
    "plt.xticks(rotation=45)\n",
    "plt.figtext(0.5, -0.05, base_model_params, wrap=True, horizontalalignment='center', fontsize=10, style='italic')\n",
    "plt.tight_layout()\n",
    "\n",
    "plt.show()"
   ]
  },
  {
   "cell_type": "markdown",
   "metadata": {},
   "source": [
    "General trend:\n",
    "1. time increases as $\\alpha$ decreases.\n",
    "2. time increases as $\\eta$ increases.\n",
    "\n",
    "$\\gamma$ = 0.1 appears to be an anomaly because it takes more time than models with $\\gamma$ values higher and lower than it. Tried to run it a few times, it all took unusual amount of time to complete."
   ]
  },
  {
   "cell_type": "markdown",
   "metadata": {},
   "source": [
    "## 2. Total topic created vs Model"
   ]
  },
  {
   "cell_type": "code",
   "execution_count": 95,
   "metadata": {},
   "outputs": [
    {
     "data": {
      "image/png": "[encoded data removed]",
      "text/plain": [
       "<Figure size 1200x600 with 1 Axes>"
      ]
     },
     "metadata": {},
     "output_type": "display_data"
    }
   ],
   "source": [
    "plt.figure(figsize=(12, 6))\n",
    "sns.barplot(data=result_L3, x='param_setting', y='total_table', hue='param_setting', palette='viridis', legend = False)\n",
    "\n",
    "plt.title('Total Topics Created', fontsize=14)\n",
    "plt.xlabel('Hyperparameter Setting', fontsize=12)\n",
    "plt.ylabel('Total Number of Topics (Tables)', fontsize=12)\n",
    "plt.xticks(rotation=45)\n",
    "plt.figtext(0.5, -0.05, base_model_params, wrap=True, horizontalalignment='center', fontsize=10, style='italic')\n",
    "plt.tight_layout()\n",
    "\n",
    "plt.show()"
   ]
  },
  {
   "cell_type": "markdown",
   "metadata": {},
   "source": [
    "Influence of $\\gamma$ on the total number of table created is less than $\\alpha$ and $\\beta$.\n",
    "\n",
    "Higher $\\alpha$ value means that the document will be represented more uniformly by more topics and a lower $\\alpha$ value means that the document will be explained by a fewer one. From the result, we can observe that the model with lower alpha value actually requires more table in total to explain the data. \n",
    "\n"
   ]
  },
  {
   "cell_type": "code",
   "execution_count": 100,
   "metadata": {},
   "outputs": [],
   "source": [
    "alpha_data = result_L3_extended.loc[result_L3_extended['aim'].isin(['alpha', 'base'])]\n",
    "alpha_data = alpha_data.sort_values(by = ['alpha','Level'], ascending = [True, True])"
   ]
  },
  {
   "cell_type": "code",
   "execution_count": 101,
   "metadata": {},
   "outputs": [
    {
     "data": {
      "image/png": "[encoded data removed]",
      "text/plain": [
       "<Figure size 1200x600 with 1 Axes>"
      ]
     },
     "metadata": {},
     "output_type": "display_data"
    }
   ],
   "source": [
    "plt.figure(figsize=(12, 6))\n",
    "sns.barplot(data=alpha_data, x='alpha', y='Topics', hue='Level', palette='viridis')\n",
    "\n",
    "plt.title('Number of Topics at Each Level for Different Alpha Values (Including Base Model)', fontsize=14)\n",
    "plt.xlabel('Alpha Value', fontsize=12)\n",
    "plt.ylabel('Number of Topics (Tables)', fontsize=12)\n",
    "plt.legend(title='Hierarchy Level')\n",
    "plt.tight_layout()\n",
    "\n",
    "plt.show()"
   ]
  },
  {
   "cell_type": "markdown",
   "metadata": {},
   "source": [
    "Need to examine the number of words in each topic..."
   ]
  },
  {
   "cell_type": "markdown",
   "metadata": {},
   "source": [
    "## Top-5 word Proportion"
   ]
  },
  {
   "cell_type": "code",
   "execution_count": 119,
   "metadata": {},
   "outputs": [],
   "source": [
    "# Filter for base, eta, and alpha models\n",
    "eta_alpha_models = result_L3[result_L3['aim'].isin(['base', 'eta', 'alpha'])].copy()\n",
    "eta_alpha_models.reset_index(drop=True, inplace=True)\n",
    "\n",
    "# Expand eta_eval into separate columns for each level\n",
    "eta_eval_expanded = pd.DataFrame(eta_alpha_models['eta_eval'].tolist(), columns=['Level 1', 'Level 2', 'Level 3'])\n",
    "\n",
    "\n",
    "# Combine with model labels\n",
    "heatmap_data = pd.concat([eta_alpha_models[['param_setting']], eta_eval_expanded], axis=1)\n",
    "\n",
    "# Melt the dataframe for heatmap plotting\n",
    "heatmap_melted = heatmap_data.melt(id_vars='param_setting', var_name='Level', value_name='Top-5 Word Proportion')\n",
    "\n",
    "# Pivot for heatmap format\n",
    "heatmap_pivot = heatmap_melted.pivot(index='Level', columns='param_setting', values='Top-5 Word Proportion')\n"
   ]
  },
  {
   "cell_type": "code",
   "execution_count": 131,
   "metadata": {},
   "outputs": [
    {
     "data": {
      "image/png": "[encoded data removed]",
      "text/plain": [
       "<Figure size 1200x600 with 2 Axes>"
      ]
     },
     "metadata": {},
     "output_type": "display_data"
    }
   ],
   "source": [
    "# Plotting the Heatmap\n",
    "plt.figure(figsize=(12, 6))\n",
    "sns.heatmap(heatmap_pivot, annot=True, cmap='YlGnBu', fmt=\".2f\", linewidths=0.5, cbar_kws={'label': 'Proportion of Top-5 Words'})\n",
    "\n",
    "plt.title('Heatmap of Top-5 Word Proportion Across Levels and Models', fontsize=14)\n",
    "plt.xlabel('Hyperparameter Setting', fontsize=12)\n",
    "plt.ylabel('Hierarchy Level', fontsize=12)\n",
    "plt.xticks(rotation=45)\n",
    "plt.figtext(0.4, -0.05, base_model_params, wrap=True, horizontalalignment='center', fontsize=10, style='italic')\n",
    "plt.tight_layout()\n",
    "\n",
    "plt.show()"
   ]
  }
 ],
 "metadata": {
  "kernelspec": {
   "display_name": "DSA3288",
   "language": "python",
   "name": "python3"
  },
  "language_info": {
   "codemirror_mode": {
    "name": "ipython",
    "version": 3
   },
   "file_extension": ".py",
   "mimetype": "text/x-python",
   "name": "python",
   "nbconvert_exporter": "python",
   "pygments_lexer": "ipython3",
   "version": "3.13.0"
  }
 },
 "nbformat": 4,
 "nbformat_minor": 2
}
